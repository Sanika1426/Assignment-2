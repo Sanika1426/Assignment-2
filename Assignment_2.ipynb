{
  "nbformat": 4,
  "nbformat_minor": 0,
  "metadata": {
    "colab": {
      "provenance": []
    },
    "kernelspec": {
      "name": "python3",
      "display_name": "Python 3"
    },
    "language_info": {
      "name": "python"
    }
  },
  "cells": [
    {
      "cell_type": "markdown",
      "source": [
        "Theory Question\n",
        "1. What are data structures, and why are they important?\n",
        "- Data structures are specialized ways of organizing, storing, and managing data in a computer so that it can be used efficiently. They define the relationship between the data and the operations that can be performed on it.\n",
        "2. Explain the difference between mutable and immutable data types with examples?\n",
        "-  Mutable Data Types\n",
        "Definition: Can be changed in place after creation (i.e., elements can be modified, added, or removed).\n",
        "\n",
        " Examples in Python: list, dict, set, bytearray.\n",
        "Immutable Data Types\n",
        "Definition: Cannot be changed after creation. Any operation that seems to modify them actually creates a new object.\n",
        "\n",
        " Examples in Python: int, float, str, tuple, bool, frozenset.\n",
        "3.  What are the main differences between lists and tuples in Python?\n",
        "- List: You can add, remove, or change elements.\n",
        "\n",
        " Tuple: Once created, elements cannot be changed.\n",
        "4. Describe how dictionaries store data?\n",
        "- A dictionary in Python is an unordered collection of key-value pairs, where each key is unique, and each key maps to a specific value.\n",
        "5. Why might you use a set instead of a list in Python?\n",
        "- ou might use a set instead of a list in Python when:\n",
        "\n",
        "  You need unique elements (sets automatically remove duplicates)\n",
        "\n",
        "  Fast membership testing is needed (in is faster in sets than in lists)\n",
        "\n",
        " Order doesn’t matter (sets are unordered)\n",
        "6. What is a string in Python, and how is it different from a list?\n",
        "- A string in Python is a sequence of characters enclosed in quotes (single, double, or triple).\n",
        "7.  How do tuples ensure data integrity in Python?\n",
        "- Tuples help ensure data integrity because they are immutable, meaning their contents cannot be changed once created.\n",
        "8.  What is a hash table, and how does it relate to dictionaries in Python?\n",
        "- A hash table is a data structure that stores key-value pairs and allows fast data access using a process called hashing.\n",
        "9. Can lists contain different data types in Python?\n",
        "- Python lists are heterogeneous, meaning they can hold elements of any type, all in the same list.\n",
        "10.  Explain why strings are immutable in Python?\n",
        "- Strings are immutable in Python to provide:\n",
        "\n",
        " Efficient memory use\n",
        "\n",
        " Safe sharing of data\n",
        "\n",
        " Support for being dictionary keys\n",
        "\n",
        " Predictable behavior\n",
        "\n",
        " This design choice contributes to Python’s clarity, simplicity, and reliability.\n",
        "11. What advantages do dictionaries offer over lists for certain tasks?\n",
        "- Dictionaries offer several key advantages when you're working with key-value relationships or need efficient lookups.\n",
        "12. Describe a scenario where using a tuple would be preferable over a list?\n",
        "- Suppose you're working with a 2D game or a mapping application, and you need to store the (x, y) coordinates of points on a grid.What is a nested dictionary, and give an example of its use case3\n",
        "13. How do sets handle duplicate values in Python?\n",
        "- In Python, sets automatically remove duplicate values. A set is a collection of unique, unordered elements.\n",
        "14. How does the “in” keyword work differently for lists and dictionaries?\n",
        "- n a list, \"in\" looks for a value in the sequence.\n",
        "\n",
        " In a dictionary, \"in\" checks only for keys, not values.\n",
        "15. Can you modify the elements of a tuple? Explain why or why not?\n",
        "- No, you cannot modify the elements of a tuple in Python.\n",
        " why? Because Tuples Are Immutable\n",
        " A tuple is an immutable sequence type.\n",
        "\n",
        " nce it's created, its elements cannot be changed, added, or removedWhy Tuples Are Immutable:\n",
        "  Data Integrity: Prevents accidental modification of fixed data.\n",
        "\n",
        "  Hashability: Tuples can be used as keys in dictionaries or elements in sets (only possible if all elements are also immutable).\n",
        "\n",
        "  Efficiency: Faster and more memory-efficient than lists for fixed collections.\n",
        "\n",
        " If a tuple contains a mutable object (like a list), you can modify the contents of that object, but not the tuple structure.\n",
        "16. What is a nested dictionary, and give an example of its use case?\n",
        "- A nested dictionary is a dictionary where values themselves are dictionaries.\n",
        "It allows you to represent hierarchical or structured data.\n",
        "17. Describe the time complexity of accessing elements in a dictionary?\n",
        "- Accessing elements in a dictionary is typically O(1), making it very efficient for lookups.\n",
        "18. In what situations are lists preferred over dictionaries?\n",
        "- Use lists for ordered, indexed, and simple collections where key-value mapping isn’t needed.\n",
        "19. Why are dictionaries considered unordered, and how does that affect data retrieval?\n",
        "- Dictionaries are designed for key-based fast access, not for ordered or positional data use—though insertion order is now preserved in modern Python.\n",
        "20.  Explain the difference between a list and a dictionary in terms of data retrieval.?\n",
        "- List: Use when accessing items by position in a sequence.\n",
        "\n",
        " Dictionary: Use when accessing items by a unique key for faster, more meaningful lookups.\n",
        "\n",
        "\n",
        "\n",
        "\n",
        "\n",
        "\n",
        "\n",
        "\n",
        "\n",
        "\n"
      ],
      "metadata": {
        "id": "hssUhd0HcHsH"
      }
    },
    {
      "cell_type": "code",
      "source": [
        "# Write a code to create a string with your name and print it#\n",
        "# Create a string with your name\n",
        "my_name = \"Sanika Junghare\"\n",
        "\n",
        "# Print the string\n",
        "print(\"My name is:\", my_name)\n"
      ],
      "metadata": {
        "colab": {
          "base_uri": "https://localhost:8080/"
        },
        "id": "zQZmmiI3iMWb",
        "outputId": "35b1f160-72d7-41f9-a07d-2fa4190decc9"
      },
      "execution_count": 1,
      "outputs": [
        {
          "output_type": "stream",
          "name": "stdout",
          "text": [
            "My name is: Sanika Junghare\n"
          ]
        }
      ]
    },
    {
      "cell_type": "code",
      "source": [
        "# Write a code to find the length of the string \"Hello World#\n",
        "# Define the string\n",
        "text = \"Hello World\"\n",
        "\n",
        "# Find and print the length\n",
        "length = len(text)\n",
        "print(\"Length of the string is:\", length)\n"
      ],
      "metadata": {
        "colab": {
          "base_uri": "https://localhost:8080/"
        },
        "id": "-t_iO-GwieRg",
        "outputId": "bf65ce05-b5c7-4143-d45f-1da3dc58c962"
      },
      "execution_count": 2,
      "outputs": [
        {
          "output_type": "stream",
          "name": "stdout",
          "text": [
            "Length of the string is: 11\n"
          ]
        }
      ]
    },
    {
      "cell_type": "code",
      "source": [
        "# Write a code to slice the first 3 characters from the string \"Python Programming#\n",
        "# Define the string\n",
        "text = \"Python Programming\"\n",
        "\n",
        "# Slice the first 3 characters\n",
        "sliced_text = text[:3]\n",
        "\n",
        "# Print the result\n",
        "print(\"First 3 characters:\", sliced_text)\n"
      ],
      "metadata": {
        "colab": {
          "base_uri": "https://localhost:8080/"
        },
        "id": "ArQM15rhim9n",
        "outputId": "574b6dd0-9dd5-42d7-880e-9fe1ad7892c0"
      },
      "execution_count": 3,
      "outputs": [
        {
          "output_type": "stream",
          "name": "stdout",
          "text": [
            "First 3 characters: Pyt\n"
          ]
        }
      ]
    },
    {
      "cell_type": "code",
      "source": [
        "# Write a code to convert the string \"hello\" to uppercase#\n",
        "# Define the string\n",
        "text = \"hello\"\n",
        "\n",
        "# Convert to uppercase\n",
        "upper_text = text.upper()\n",
        "\n",
        "# Print the result\n",
        "print(\"Uppercase:\", upper_text)\n"
      ],
      "metadata": {
        "colab": {
          "base_uri": "https://localhost:8080/"
        },
        "id": "6e3hesAjiwMs",
        "outputId": "68ff9020-27cc-4616-9e5d-7854bf6b1f61"
      },
      "execution_count": 4,
      "outputs": [
        {
          "output_type": "stream",
          "name": "stdout",
          "text": [
            "Uppercase: HELLO\n"
          ]
        }
      ]
    },
    {
      "cell_type": "code",
      "source": [
        "# Write a code to replace the word \"apple\" with \"orange\" in the string \"I like apple\"#\n",
        "# Original string\n",
        "text = \"I like apple\"\n",
        "\n",
        "# Replace \"apple\" with \"orange\"\n",
        "new_text = text.replace(\"apple\", \"orange\")\n",
        "\n",
        "# Print the result\n",
        "print(\"Updated string:\", new_text)\n"
      ],
      "metadata": {
        "colab": {
          "base_uri": "https://localhost:8080/"
        },
        "id": "FGhGWel7jEAA",
        "outputId": "31ba819e-b6c0-4813-d4d7-1bbd41056067"
      },
      "execution_count": 5,
      "outputs": [
        {
          "output_type": "stream",
          "name": "stdout",
          "text": [
            "Updated string: I like orange\n"
          ]
        }
      ]
    },
    {
      "cell_type": "code",
      "source": [
        "#Write a code to create a list with numbers 1 to 5 and print it#\n",
        "# Create a list with numbers 1 to 5\n",
        "numbers = [1, 2, 3, 4, 5]\n",
        "\n",
        "# Print the list\n",
        "print(\"List of numbers:\", numbers)\n"
      ],
      "metadata": {
        "colab": {
          "base_uri": "https://localhost:8080/"
        },
        "id": "rDTgPJKvjL6N",
        "outputId": "6bdaaf6e-2bff-41b0-e8df-cfbebc3fac1c"
      },
      "execution_count": 6,
      "outputs": [
        {
          "output_type": "stream",
          "name": "stdout",
          "text": [
            "List of numbers: [1, 2, 3, 4, 5]\n"
          ]
        }
      ]
    },
    {
      "cell_type": "code",
      "source": [
        "# P Write a code to append the number 10 to the list [1, 2, 3, 4]#\n",
        "# Original list\n",
        "numbers = [1, 2, 3, 4]\n",
        "\n",
        "# Append 10 to the list\n",
        "numbers.append(10)\n",
        "\n",
        "# Print the updated list\n",
        "print(\"Updated list:\", numbers)\n"
      ],
      "metadata": {
        "colab": {
          "base_uri": "https://localhost:8080/"
        },
        "id": "aX_eIx2XjTr0",
        "outputId": "01051f49-6955-4ce8-86d4-9a2d50a52ec6"
      },
      "execution_count": 7,
      "outputs": [
        {
          "output_type": "stream",
          "name": "stdout",
          "text": [
            "Updated list: [1, 2, 3, 4, 10]\n"
          ]
        }
      ]
    },
    {
      "cell_type": "code",
      "source": [
        "# Write a code to remove the number 3 from the list [1, 2, 3, 4, 5]#\n",
        "# Original list\n",
        "numbers = [1, 2, 3, 4, 5]\n",
        "\n",
        "# Remove the number 3\n",
        "numbers.remove(3)\n",
        "\n",
        "# Print the updated list\n",
        "print(\"Updated list:\", numbers)\n"
      ],
      "metadata": {
        "colab": {
          "base_uri": "https://localhost:8080/"
        },
        "id": "5QRtIxCejbr3",
        "outputId": "d99dab74-c7e4-4372-a70c-261b36d75384"
      },
      "execution_count": 8,
      "outputs": [
        {
          "output_type": "stream",
          "name": "stdout",
          "text": [
            "Updated list: [1, 2, 4, 5]\n"
          ]
        }
      ]
    },
    {
      "cell_type": "code",
      "source": [
        "# Write a code to access the second element in the list ['a', 'b', 'c', 'd']#\n",
        "# Define the list\n",
        "letters = ['a', 'b', 'c', 'd']\n",
        "\n",
        "# Access the second element (index 1)\n",
        "second_element = letters[1]\n",
        "\n",
        "# Print the result\n",
        "print(\"Second element:\", second_element)\n"
      ],
      "metadata": {
        "colab": {
          "base_uri": "https://localhost:8080/"
        },
        "id": "2FzciH7pjkU1",
        "outputId": "2c7b91b7-077a-47e0-bffd-75dc7eb363f7"
      },
      "execution_count": 9,
      "outputs": [
        {
          "output_type": "stream",
          "name": "stdout",
          "text": [
            "Second element: b\n"
          ]
        }
      ]
    },
    {
      "cell_type": "code",
      "source": [
        "# Write a code to reverse the list [10, 20, 30, 40, 50].#\n",
        "# Original list\n",
        "numbers = [10, 20, 30, 40, 50]\n",
        "\n",
        "# Reverse the list\n",
        "numbers.reverse()\n",
        "\n",
        "# Print the reversed list\n",
        "print(\"Reversed list:\", numbers)\n"
      ],
      "metadata": {
        "colab": {
          "base_uri": "https://localhost:8080/"
        },
        "id": "090HoeBhjsPh",
        "outputId": "c060f5a3-0046-46f3-da27-69a1ffa1c29f"
      },
      "execution_count": 11,
      "outputs": [
        {
          "output_type": "stream",
          "name": "stdout",
          "text": [
            "Reversed list: [50, 40, 30, 20, 10]\n"
          ]
        }
      ]
    },
    {
      "cell_type": "code",
      "source": [
        "# Write a code to create a tuple with the elements 100, 200, 300 and print it.#\n",
        "# Create a tuple\n",
        "my_tuple = (100, 200, 300)\n",
        "\n",
        "# Print the tuple\n",
        "print(\"Tuple:\", my_tuple)\n"
      ],
      "metadata": {
        "colab": {
          "base_uri": "https://localhost:8080/"
        },
        "id": "uLnJ7LQwj0A9",
        "outputId": "47b33564-ff2b-44d2-d475-2aed2ee0576c"
      },
      "execution_count": 10,
      "outputs": [
        {
          "output_type": "stream",
          "name": "stdout",
          "text": [
            "Tuple: (100, 200, 300)\n"
          ]
        }
      ]
    },
    {
      "cell_type": "code",
      "source": [
        "#  Write a code to access the second-to-last element of the tuple ('red', 'green', 'blue', 'yellow')#\n",
        "# Define the tuple\n",
        "colors = ('red', 'green', 'blue', 'yellow')\n",
        "\n",
        "# Access the second-to-last element\n",
        "second_last = colors[-2]\n",
        "\n",
        "# Print the result\n",
        "print(\"Second-to-last element:\", second_last)\n"
      ],
      "metadata": {
        "colab": {
          "base_uri": "https://localhost:8080/"
        },
        "id": "aqU1QNwukAHx",
        "outputId": "4b61da7d-99fe-4145-9a7e-23aa9c40b540"
      },
      "execution_count": 12,
      "outputs": [
        {
          "output_type": "stream",
          "name": "stdout",
          "text": [
            "Second-to-last element: blue\n"
          ]
        }
      ]
    },
    {
      "cell_type": "code",
      "source": [
        "# Write a code to find the minimum number in the tuple (10, 20, 5, 15).#\n",
        "# Define the tuple\n",
        "numbers = (10, 20, 5, 15)\n",
        "\n",
        "# Find the minimum number\n",
        "minimum = min(numbers)\n",
        "\n",
        "# Print the result\n",
        "print(\"Minimum number:\", minimum)\n"
      ],
      "metadata": {
        "colab": {
          "base_uri": "https://localhost:8080/"
        },
        "id": "XCp1fFCVkNWI",
        "outputId": "74c45a10-da6b-42d8-f726-d850df402611"
      },
      "execution_count": 13,
      "outputs": [
        {
          "output_type": "stream",
          "name": "stdout",
          "text": [
            "Minimum number: 5\n"
          ]
        }
      ]
    },
    {
      "cell_type": "code",
      "source": [
        "# Write a code to find the index of the element \"cat\" in the tuple ('dog', 'cat', 'rabbit').#\n",
        "# Define the tuple\n",
        "animals = ('dog', 'cat', 'rabbit')\n",
        "\n",
        "# Find the index of \"cat\"\n",
        "index = animals.index(\"cat\")\n",
        "\n",
        "# Print the result\n",
        "print(\"Index of 'cat':\", index)\n"
      ],
      "metadata": {
        "colab": {
          "base_uri": "https://localhost:8080/"
        },
        "id": "_9w9YgBXkU8Y",
        "outputId": "e85b7532-bc16-44cb-b6fc-29bbdc417134"
      },
      "execution_count": 14,
      "outputs": [
        {
          "output_type": "stream",
          "name": "stdout",
          "text": [
            "Index of 'cat': 1\n"
          ]
        }
      ]
    },
    {
      "cell_type": "code",
      "source": [
        "# Write a code to create a tuple containing three different fruits and check if \"kiwi\" is in it.#\n",
        "# Create a tuple of fruits\n",
        "fruits = (\"apple\", \"banana\", \"mango\")\n",
        "\n",
        "# Check if \"kiwi\" is in the tuple\n",
        "if \"kiwi\" in fruits:\n",
        "    print(\"Kiwi is in the tuple.\")\n",
        "else:\n",
        "    print(\"Kiwi is not in the tuple.\")\n"
      ],
      "metadata": {
        "colab": {
          "base_uri": "https://localhost:8080/"
        },
        "id": "o8LyKSMQkemi",
        "outputId": "aa5bef64-d105-4677-90b3-41a342a364d5"
      },
      "execution_count": 15,
      "outputs": [
        {
          "output_type": "stream",
          "name": "stdout",
          "text": [
            "Kiwi is not in the tuple.\n"
          ]
        }
      ]
    },
    {
      "cell_type": "code",
      "source": [
        "# Write a code to create a set with the elements 'a', 'b', 'c' and print it.#\n",
        "# Create a set\n",
        "my_set = {'a', 'b', 'c'}\n",
        "\n",
        "# Print the set\n",
        "print(\"Set:\", my_set)\n"
      ],
      "metadata": {
        "colab": {
          "base_uri": "https://localhost:8080/"
        },
        "id": "S-Biw-NEkmvH",
        "outputId": "fbfef76e-2631-44e3-b508-9e50610ca2d3"
      },
      "execution_count": 16,
      "outputs": [
        {
          "output_type": "stream",
          "name": "stdout",
          "text": [
            "Set: {'b', 'a', 'c'}\n"
          ]
        }
      ]
    },
    {
      "cell_type": "code",
      "source": [
        "#  Write a code to clear all elements from the set {1, 2, 3, 4, 5}.#\n",
        "# Define the set\n",
        "my_set = {1, 2, 3, 4, 5}\n",
        "\n",
        "# Clear the set\n",
        "my_set.clear()\n",
        "\n",
        "# Print the result\n",
        "print(\"Cleared set:\", my_set)\n"
      ],
      "metadata": {
        "colab": {
          "base_uri": "https://localhost:8080/"
        },
        "id": "kQF7WpbTkvSR",
        "outputId": "e042d152-f704-4602-e3a9-2a62a202fa38"
      },
      "execution_count": 17,
      "outputs": [
        {
          "output_type": "stream",
          "name": "stdout",
          "text": [
            "Cleared set: set()\n"
          ]
        }
      ]
    },
    {
      "cell_type": "code",
      "source": [
        "#  Write a code to remove the element 4 from the set {1, 2, 3, 4}.#\n",
        "# Define the set\n",
        "my_set = {1, 2, 3, 4}\n",
        "\n",
        "# Remove the element 4\n",
        "my_set.remove(4)\n",
        "\n",
        "# Print the updated set\n",
        "print(\"Updated set:\", my_set)\n"
      ],
      "metadata": {
        "colab": {
          "base_uri": "https://localhost:8080/"
        },
        "id": "ualQDOzNk3ll",
        "outputId": "90aa96d3-aa8a-4cf1-85f5-fee26bb7e5df"
      },
      "execution_count": 18,
      "outputs": [
        {
          "output_type": "stream",
          "name": "stdout",
          "text": [
            "Updated set: {1, 2, 3}\n"
          ]
        }
      ]
    },
    {
      "cell_type": "code",
      "source": [
        "#  Write a code to find the union of two sets {1, 2, 3} and {3, 4, 5}.#\n",
        "# Define the sets\n",
        "set1 = {1, 2, 3}\n",
        "set2 = {3, 4, 5}\n",
        "\n",
        "# Find the union\n",
        "union_set = set1.union(set2)\n",
        "\n",
        "# Print the result\n",
        "print(\"Union of sets:\", union_set)\n"
      ],
      "metadata": {
        "colab": {
          "base_uri": "https://localhost:8080/"
        },
        "id": "BnUt6Ob6lDDL",
        "outputId": "2dc89827-214a-43b8-bde8-d06a2c8166b6"
      },
      "execution_count": 20,
      "outputs": [
        {
          "output_type": "stream",
          "name": "stdout",
          "text": [
            "Union of sets: {1, 2, 3, 4, 5}\n"
          ]
        }
      ]
    },
    {
      "cell_type": "code",
      "source": [
        "# Write a code to find the intersection of two sets {1, 2, 3} and {2, 3, 4}.#\n",
        "# Define the sets\n",
        "set1 = {1, 2, 3}\n",
        "set2 = {2, 3, 4}\n",
        "\n",
        "# Find the intersection\n",
        "intersection_set = set1.intersection(set2)\n",
        "\n",
        "# Print the result\n",
        "print(\"Intersection of sets:\", intersection_set)\n"
      ],
      "metadata": {
        "colab": {
          "base_uri": "https://localhost:8080/"
        },
        "id": "2TiVX3wvlNBT",
        "outputId": "20d0522c-e0e8-4d32-a083-e7fac466b4c1"
      },
      "execution_count": 21,
      "outputs": [
        {
          "output_type": "stream",
          "name": "stdout",
          "text": [
            "Intersection of sets: {2, 3}\n"
          ]
        }
      ]
    },
    {
      "cell_type": "code",
      "source": [
        "#  Write a code to create a dictionary with the keys \"name\", \"age\", and \"city\", and print it#\n",
        "# Create the dictionary\n",
        "person = {\n",
        "    \"name\": \"Alice\",\n",
        "    \"age\": 25,\n",
        "    \"city\": \"Mumbai\"\n",
        "}\n",
        "\n",
        "# Print the dictionary\n",
        "print(\"Person Dictionary:\", person)\n"
      ],
      "metadata": {
        "colab": {
          "base_uri": "https://localhost:8080/"
        },
        "id": "eRvoIpgqlWNT",
        "outputId": "45b228fb-ad0e-4fcf-d92b-0620c0ab8c63"
      },
      "execution_count": 22,
      "outputs": [
        {
          "output_type": "stream",
          "name": "stdout",
          "text": [
            "Person Dictionary: {'name': 'Alice', 'age': 25, 'city': 'Mumbai'}\n"
          ]
        }
      ]
    },
    {
      "cell_type": "code",
      "source": [
        "#  Write a code to add a new key-value pair \"country\": \"USA\" to the dictionary {'name': 'John', 'age': 25}#\n",
        "# Original dictionary\n",
        "person = {'name': 'John', 'age': 25}\n",
        "\n",
        "# Add new key-value pair\n",
        "person['country'] = 'USA'\n",
        "\n",
        "# Print the updated dictionary\n",
        "print(\"Updated dictionary:\", person)\n"
      ],
      "metadata": {
        "colab": {
          "base_uri": "https://localhost:8080/"
        },
        "id": "ZXyEGkaelfeU",
        "outputId": "745b9756-8507-4e3f-c29b-b2c60cbd328c"
      },
      "execution_count": 23,
      "outputs": [
        {
          "output_type": "stream",
          "name": "stdout",
          "text": [
            "Updated dictionary: {'name': 'John', 'age': 25, 'country': 'USA'}\n"
          ]
        }
      ]
    },
    {
      "cell_type": "code",
      "source": [
        "# Write a code to access the value associated with the key \"name\" in the dictionary {'name': 'Alice', 'age': 30}.#\n",
        "# Define the dictionary\n",
        "person = {'name': 'Alice', 'age': 30}\n",
        "\n",
        "# Access the value of the key \"name\"\n",
        "name_value = person['name']\n",
        "\n",
        "# Print the result\n",
        "print(\"Name:\", name_value)\n"
      ],
      "metadata": {
        "colab": {
          "base_uri": "https://localhost:8080/"
        },
        "id": "PYylZj1gloqi",
        "outputId": "31a09e09-8d3e-46e2-bf68-bede78fb6990"
      },
      "execution_count": 24,
      "outputs": [
        {
          "output_type": "stream",
          "name": "stdout",
          "text": [
            "Name: Alice\n"
          ]
        }
      ]
    },
    {
      "cell_type": "code",
      "source": [
        "# Write a code to remove the key \"age\" from the dictionary {'name': 'Bob', 'age': 22, 'city': 'New York'}.#\n",
        "# Define the dictionary\n",
        "person = {'name': 'Bob', 'age': 22, 'city': 'New York'}\n",
        "\n",
        "# Remove the key \"age\"\n",
        "person.pop('age')\n",
        "\n",
        "# Print the updated dictionary\n",
        "print(\"Updated dictionary:\", person)\n"
      ],
      "metadata": {
        "colab": {
          "base_uri": "https://localhost:8080/"
        },
        "id": "-8ZxwjTJlzW_",
        "outputId": "724c333f-c3b7-4446-dddc-c4da7351435c"
      },
      "execution_count": 25,
      "outputs": [
        {
          "output_type": "stream",
          "name": "stdout",
          "text": [
            "Updated dictionary: {'name': 'Bob', 'city': 'New York'}\n"
          ]
        }
      ]
    },
    {
      "cell_type": "code",
      "source": [
        "# Write a code to check if the key \"city\" exists in the dictionary {'name': 'Alice', 'city': 'Paris'}.#\n",
        "# Define the dictionary\n",
        "person = {'name': 'Alice', 'city': 'Paris'}\n",
        "\n",
        "# Check if \"city\" key exists\n",
        "if \"city\" in person:\n",
        "    print(\"Key 'city' exists in the dictionary.\")\n",
        "else:\n",
        "    print(\"Key 'city' does not exist.\")\n"
      ],
      "metadata": {
        "colab": {
          "base_uri": "https://localhost:8080/"
        },
        "id": "TpbJP2H-l83E",
        "outputId": "5ccc3273-d7b8-45a8-80f3-6410d84d1fd7"
      },
      "execution_count": 26,
      "outputs": [
        {
          "output_type": "stream",
          "name": "stdout",
          "text": [
            "Key 'city' exists in the dictionary.\n"
          ]
        }
      ]
    },
    {
      "cell_type": "code",
      "source": [
        "#Write a code to create a list, a tuple, and a dictionary, and print them all #\n",
        "# Create a list\n",
        "my_list = [1, 2, 3, 4, 5]\n",
        "\n",
        "# Create a tuple\n",
        "my_tuple = ('apple', 'banana', 'cherry')\n",
        "\n",
        "# Create a dictionary\n",
        "my_dict = {'name': 'Alice', 'age': 25, 'city': 'Delhi'}\n",
        "\n",
        "# Print all three\n",
        "print(\"List:\", my_list)\n",
        "print(\"Tuple:\", my_tuple)\n",
        "print(\"Dictionary:\", my_dict)\n"
      ],
      "metadata": {
        "colab": {
          "base_uri": "https://localhost:8080/"
        },
        "id": "NTbshhyemLo0",
        "outputId": "d2970d12-1fbd-4f9b-c479-8da3b1b94d04"
      },
      "execution_count": 27,
      "outputs": [
        {
          "output_type": "stream",
          "name": "stdout",
          "text": [
            "List: [1, 2, 3, 4, 5]\n",
            "Tuple: ('apple', 'banana', 'cherry')\n",
            "Dictionary: {'name': 'Alice', 'age': 25, 'city': 'Delhi'}\n"
          ]
        }
      ]
    },
    {
      "cell_type": "code",
      "source": [
        "# Write a code to create a list with strings and print the element at the third index.#\n",
        "# Create a list with strings\n",
        "fruits = [\"apple\", \"banana\", \"cherry\", \"date\", \"elderberry\"]\n",
        "\n",
        "# Access and print the element at the third index\n",
        "print(\"Element at index 3:\", fruits[3])\n"
      ],
      "metadata": {
        "colab": {
          "base_uri": "https://localhost:8080/"
        },
        "id": "DELx3Pm3mtm-",
        "outputId": "80a0c868-8579-4c95-b41d-de06ddd178ab"
      },
      "execution_count": 29,
      "outputs": [
        {
          "output_type": "stream",
          "name": "stdout",
          "text": [
            "Element at index 3: date\n"
          ]
        }
      ]
    },
    {
      "cell_type": "code",
      "source": [
        "# Write a code to combine two dictionaries into one and print the result#\n",
        "# Define two dictionaries\n",
        "dict1 = {'a': 1, 'b': 2}\n",
        "dict2 = {'c': 3, 'd': 4}\n",
        "\n",
        "# Combine dictionaries (Python 3.9+)\n",
        "combined_dict = dict1 | dict2\n",
        "\n",
        "# Print the combined dictionary\n",
        "print(\"Combined dictionary:\", combined_dict)\n"
      ],
      "metadata": {
        "colab": {
          "base_uri": "https://localhost:8080/"
        },
        "id": "gTh_OBuhm2BC",
        "outputId": "97ff392b-96d7-46f8-f1db-4d42c986fe2b"
      },
      "execution_count": 30,
      "outputs": [
        {
          "output_type": "stream",
          "name": "stdout",
          "text": [
            "Combined dictionary: {'a': 1, 'b': 2, 'c': 3, 'd': 4}\n"
          ]
        }
      ]
    },
    {
      "cell_type": "code",
      "source": [
        "#  Write a code to convert a list of strings into a set.#\n",
        "# Define a list of strings\n",
        "string_list = [\"apple\", \"banana\", \"apple\", \"cherry\", \"banana\"]\n",
        "\n",
        "# Convert the list to a set to remove duplicates\n",
        "string_set = set(string_list)\n",
        "\n",
        "# Print the set\n",
        "print(\"Set:\", string_set)\n"
      ],
      "metadata": {
        "colab": {
          "base_uri": "https://localhost:8080/"
        },
        "id": "R4RDL0a1m_yv",
        "outputId": "ddaa73c6-4f08-41bc-c19b-f3cdefbc7236"
      },
      "execution_count": 31,
      "outputs": [
        {
          "output_type": "stream",
          "name": "stdout",
          "text": [
            "Set: {'cherry', 'banana', 'apple'}\n"
          ]
        }
      ]
    }
  ]
}